{
 "cells": [
  {
   "cell_type": "markdown",
   "id": "64b1f3af",
   "metadata": {},
   "source": [
    "# 1. Create a database DB to store objects A, B and C each in a separate table"
   ]
  },
  {
   "cell_type": "code",
   "execution_count": 1,
   "id": "e680974a",
   "metadata": {},
   "outputs": [],
   "source": [
    "import sqlite3\n",
    "import json\n",
    "conn = sqlite3.connect(\"my_database.db\")\n",
    "cursor = conn.cursor()\n",
    "table_names = [\"A\", \"B\", \"C\"]\n",
    "for table_name in table_names:\n",
    "    with open(f\"{table_name}.json\", \"r\") as f:\n",
    "        data = json.load(f)\n",
    "    columns = \",\".join(data[0].keys())\n",
    "    cursor.execute(f\"CREATE TABLE {table_name} ({columns})\")\n",
    "    for row in data:\n",
    "        values = \",\".join([f\"'{value}'\" for value in row.values()])\n",
    "        cursor.execute(f\"INSERT INTO {table_name} VALUES ({values})\")\n",
    "conn.commit()\n",
    "conn.close()\n"
   ]
  },
  {
   "cell_type": "code",
   "execution_count": 2,
   "id": "a2a53472",
   "metadata": {},
   "outputs": [
    {
     "name": "stdout",
     "output_type": "stream",
     "text": [
      "\n",
      "Таблица A:\n",
      "('1', 'red')\n",
      "('2', 'green')\n",
      "('-2', 'blue')\n",
      "\n",
      "Таблица B:\n",
      "('prod', '2')\n",
      "('sum', '1')\n",
      "('pow', '-2')\n",
      "\n",
      "Таблица C:\n",
      "('[2, 0, 0]',)\n",
      "('[0, 3, 0]',)\n",
      "('[0, 0, -0.25]',)\n"
     ]
    }
   ],
   "source": [
    "conn = sqlite3.connect(\"my_database.db\")\n",
    "cursor = conn.cursor()\n",
    "table_names = [\"A\", \"B\", \"C\"]\n",
    "for table_name in table_names:\n",
    "    cursor.execute(f\"SELECT * FROM {table_name}\")\n",
    "    print(f\"\\nТаблица {table_name}:\")\n",
    "    for row in cursor.fetchall():\n",
    "        print(row)\n",
    "conn.close()\n"
   ]
  },
  {
   "cell_type": "markdown",
   "id": "a5307d51",
   "metadata": {},
   "source": [
    "# Создание пула функций"
   ]
  },
  {
   "cell_type": "code",
   "execution_count": 3,
   "id": "4b798b99",
   "metadata": {},
   "outputs": [],
   "source": [
    "def sum_func(a, b):\n",
    "    return a + b\n",
    "\n",
    "def sub_func(a, b):\n",
    "    return a - b\n",
    "\n",
    "def pow_func(a, b):\n",
    "    return a ** b\n",
    "\n",
    "def prod_func(a, b):\n",
    "    return a * b\n",
    "\n",
    "def div_func(a, b):\n",
    "    return a / b\n",
    "func_map = {\n",
    "    \"sum\": sum_func,\n",
    "    \"sub\": sub_func,\n",
    "    \"pow\": pow_func,\n",
    "    \"prod\": prod_func,\n",
    "    \"div\": div_func,\n",
    "}"
   ]
  },
  {
   "cell_type": "markdown",
   "id": "64f23a79",
   "metadata": {},
   "source": [
    "# 2. Implement a function that takes A and B and return C, where B.function applies to A.value and B.value and the result is stored in C.value with an index that depends on A.color according to the map:"
   ]
  },
  {
   "cell_type": "code",
   "execution_count": 4,
   "id": "18289285",
   "metadata": {},
   "outputs": [],
   "source": [
    "def process_data(a, b, func_map):\n",
    "    if not hasattr(a, \"value\") or not hasattr(a, \"color\"):\n",
    "        raise ValueError(\"Объект A должен иметь поля 'value' и 'color'\")\n",
    "    if not hasattr(b, \"value\") or not hasattr(b, \"function\"):\n",
    "        raise ValueError(\"Объект B должен иметь поля 'value' и 'function'\")\n",
    "    color_index_map = {\"red\": 0, \"green\": 1, \"blue\": 2}\n",
    "    try:\n",
    "        index = color_index_map[a.color]\n",
    "    except KeyError:\n",
    "        raise ValueError(f\"Неизвестный цвет: {a.color}\")\n",
    "    if isinstance(b.function, str):\n",
    "        try:\n",
    "            b.function = func_map[b.function]\n",
    "        except KeyError:\n",
    "            raise ValueError(f\"Неизвестное сокращение функции: {b.function}\")\n",
    "    result = b.function(a.value, b.value)\n",
    "    c = [0] * 3\n",
    "    c[index] = result\n",
    "    return c\n"
   ]
  },
  {
   "cell_type": "code",
   "execution_count": 5,
   "id": "32db3df8",
   "metadata": {},
   "outputs": [
    {
     "name": "stdout",
     "output_type": "stream",
     "text": [
      "[0, 0, 0.25]\n"
     ]
    }
   ],
   "source": [
    "a = type(\"A\", (), {\"value\": -2, \"color\": \"blue\"})\n",
    "b = type(\"B\", (), {\"value\": -2, \"function\": \"pow\"})\n",
    "c = process_data(a, b, func_map)\n",
    "print(c)  "
   ]
  },
  {
   "cell_type": "markdown",
   "id": "16dcfb0b",
   "metadata": {},
   "source": [
    "# 3. Implement a function similar to function-2 but with INPUT from DB and OUTPUT to DB"
   ]
  },
  {
   "cell_type": "code",
   "execution_count": 6,
   "id": "5351d3c9",
   "metadata": {},
   "outputs": [
    {
     "name": "stdout",
     "output_type": "stream",
     "text": [
      " [2.0, 0, 0]\n",
      " [0, 3.0, 0]\n",
      " [0, 0, 0.25]\n"
     ]
    }
   ],
   "source": [
    "conn = sqlite3.connect(\"my_database.db\")\n",
    "cursor = conn.cursor()\n",
    "cursor.execute(\"SELECT value, color FROM A\")\n",
    "a_data = cursor.fetchall()\n",
    "cursor.execute(\"SELECT function, value FROM B\")\n",
    "b_data = cursor.fetchall()\n",
    "objects_a = []\n",
    "for row in a_data:\n",
    "    obj = type(\"ObjectA\", (object,), {\"value\": float(row[0]), \"color\": row[1]})\n",
    "    objects_a.append(obj)\n",
    "objects_b = []\n",
    "for row in b_data:\n",
    "    obj = type(\"ObjectB\", (object,), {\"function\": row[0], \"value\": float(row[1])})\n",
    "    objects_b.append(obj)\n",
    "\n",
    "for obj_a, obj_b in zip(objects_a, objects_b):\n",
    "    if obj_b.function == \"prod\":\n",
    "        obj_b.value = float(obj_b.value)  \n",
    "    result = process_data(obj_a, obj_b, func_map)\n",
    "    \n",
    "    print(f\" {result}\")\n",
    "conn.commit()\n",
    "conn.close()"
   ]
  },
  {
   "cell_type": "code",
   "execution_count": 7,
   "id": "202aff6d",
   "metadata": {},
   "outputs": [
    {
     "name": "stdout",
     "output_type": "stream",
     "text": [
      "Таблица: A\n",
      "('1', 'red')\n",
      "('2', 'green')\n",
      "('-2', 'blue')\n",
      "Таблица: B\n",
      "('prod', '2')\n",
      "('sum', '1')\n",
      "('pow', '-2')\n",
      "Таблица: C\n",
      "('[2, 0, 0]',)\n",
      "('[0, 3, 0]',)\n",
      "('[0, 0, -0.25]',)\n",
      "Таблица: results\n",
      "('[2.0, 0, 0]',)\n",
      "('[0, 3.0, 0]',)\n",
      "('[0, 0, 0.25]',)\n"
     ]
    }
   ],
   "source": [
    "conn = sqlite3.connect(\"my_database.db\")\n",
    "cursor = conn.cursor()\n",
    "cursor.execute(\"SELECT value, color FROM A\")\n",
    "a_data = cursor.fetchall()\n",
    "cursor.execute(\"SELECT function, value FROM B\")\n",
    "b_data = cursor.fetchall()\n",
    "objects_a = []\n",
    "\n",
    "for row in a_data:\n",
    "    obj = type(\"ObjectA\", (object,), {\"value\": float(row[0]), \"color\": row[1]})\n",
    "    objects_a.append(obj)\n",
    "\n",
    "objects_b = []\n",
    "for row in b_data:\n",
    "    obj = type(\"ObjectB\", (object,), {\"function\": row[0], \"value\": float(row[1])})\n",
    "    objects_b.append(obj)\n",
    "\n",
    "results = []\n",
    "for obj_a, obj_b in zip(objects_a, objects_b):\n",
    "    if obj_b.function == \"prod\":\n",
    "        obj_b.value = float(obj_b.value)\n",
    "    result = process_data(obj_a, obj_b, func_map)\n",
    "    results.append(result)\n",
    "\n",
    "conn_new = sqlite3.connect(\"my_database.db\")\n",
    "cursor_new = conn_new.cursor()\n",
    "\n",
    "cursor_new.execute(\"\"\"\n",
    "CREATE TABLE IF NOT EXISTS results (\n",
    "    value_json TEXT\n",
    ")\n",
    "\"\"\")\n",
    "\n",
    "for result in results:\n",
    "    value_json = json.dumps(result)\n",
    "    cursor_new.execute(\"INSERT INTO results (value_json) VALUES (?)\", (value_json,))\n",
    "\n",
    "\n",
    "conn_new.commit()\n",
    "conn_new.close()\n",
    "\n",
    "cursor.execute(\"SELECT name FROM sqlite_master WHERE type='table'\")\n",
    "tables = cursor.fetchall()\n",
    "\n",
    "for table_name in tables:\n",
    "    print(f\"Таблица: {table_name[0]}\")\n",
    "    cursor.execute(f\"SELECT * FROM {table_name[0]}\")\n",
    "    data = cursor.fetchall()\n",
    "    for row in data:\n",
    "        print(row)\n",
    "\n",
    "conn.commit()\n",
    "conn.close()"
   ]
  }
 ],
 "metadata": {
  "kernelspec": {
   "display_name": "Python 3 (ipykernel)",
   "language": "python",
   "name": "python3"
  },
  "language_info": {
   "codemirror_mode": {
    "name": "ipython",
    "version": 3
   },
   "file_extension": ".py",
   "mimetype": "text/x-python",
   "name": "python",
   "nbconvert_exporter": "python",
   "pygments_lexer": "ipython3",
   "version": "3.11.7"
  }
 },
 "nbformat": 4,
 "nbformat_minor": 5
}
